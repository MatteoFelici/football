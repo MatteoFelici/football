{
 "cells": [
  {
   "cell_type": "code",
   "execution_count": 182,
   "id": "cf46a7ab",
   "metadata": {},
   "outputs": [],
   "source": [
    "import pandas as pd\n",
    "import numpy as np\n",
    "import json\n",
    "import matplotlib.pyplot as plt\n",
    "from mplsoccer.pitch import Pitch\n",
    "import matplotlib.cm as cm\n",
    "import seaborn as sns\n",
    "\n",
    "\n",
    "pd.set_option('display.max_columns', 100)\n",
    "pd.set_option('mode.chained_assignment', None)"
   ]
  },
  {
   "cell_type": "markdown",
   "id": "703c68c3",
   "metadata": {},
   "source": [
    "First, we focus on England data."
   ]
  },
  {
   "cell_type": "code",
   "execution_count": 6,
   "id": "b02fdc40",
   "metadata": {},
   "outputs": [
    {
     "name": "stdout",
     "output_type": "stream",
     "text": [
      "(643150, 12)\n"
     ]
    },
    {
     "data": {
      "text/html": [
       "<div>\n",
       "<style scoped>\n",
       "    .dataframe tbody tr th:only-of-type {\n",
       "        vertical-align: middle;\n",
       "    }\n",
       "\n",
       "    .dataframe tbody tr th {\n",
       "        vertical-align: top;\n",
       "    }\n",
       "\n",
       "    .dataframe thead th {\n",
       "        text-align: right;\n",
       "    }\n",
       "</style>\n",
       "<table border=\"1\" class=\"dataframe\">\n",
       "  <thead>\n",
       "    <tr style=\"text-align: right;\">\n",
       "      <th></th>\n",
       "      <th>eventId</th>\n",
       "      <th>subEventName</th>\n",
       "      <th>tags</th>\n",
       "      <th>playerId</th>\n",
       "      <th>positions</th>\n",
       "      <th>matchId</th>\n",
       "      <th>eventName</th>\n",
       "      <th>teamId</th>\n",
       "      <th>matchPeriod</th>\n",
       "      <th>eventSec</th>\n",
       "      <th>subEventId</th>\n",
       "      <th>id</th>\n",
       "    </tr>\n",
       "  </thead>\n",
       "  <tbody>\n",
       "    <tr>\n",
       "      <th>0</th>\n",
       "      <td>8</td>\n",
       "      <td>Simple pass</td>\n",
       "      <td>[{'id': 1801}]</td>\n",
       "      <td>25413</td>\n",
       "      <td>[{'y': 49, 'x': 49}, {'y': 78, 'x': 31}]</td>\n",
       "      <td>2499719</td>\n",
       "      <td>Pass</td>\n",
       "      <td>1609</td>\n",
       "      <td>1H</td>\n",
       "      <td>2.758649</td>\n",
       "      <td>85</td>\n",
       "      <td>177959171</td>\n",
       "    </tr>\n",
       "    <tr>\n",
       "      <th>1</th>\n",
       "      <td>8</td>\n",
       "      <td>High pass</td>\n",
       "      <td>[{'id': 1801}]</td>\n",
       "      <td>370224</td>\n",
       "      <td>[{'y': 78, 'x': 31}, {'y': 75, 'x': 51}]</td>\n",
       "      <td>2499719</td>\n",
       "      <td>Pass</td>\n",
       "      <td>1609</td>\n",
       "      <td>1H</td>\n",
       "      <td>4.946850</td>\n",
       "      <td>83</td>\n",
       "      <td>177959172</td>\n",
       "    </tr>\n",
       "    <tr>\n",
       "      <th>2</th>\n",
       "      <td>8</td>\n",
       "      <td>Head pass</td>\n",
       "      <td>[{'id': 1801}]</td>\n",
       "      <td>3319</td>\n",
       "      <td>[{'y': 75, 'x': 51}, {'y': 71, 'x': 35}]</td>\n",
       "      <td>2499719</td>\n",
       "      <td>Pass</td>\n",
       "      <td>1609</td>\n",
       "      <td>1H</td>\n",
       "      <td>6.542188</td>\n",
       "      <td>82</td>\n",
       "      <td>177959173</td>\n",
       "    </tr>\n",
       "    <tr>\n",
       "      <th>3</th>\n",
       "      <td>8</td>\n",
       "      <td>Head pass</td>\n",
       "      <td>[{'id': 1801}]</td>\n",
       "      <td>120339</td>\n",
       "      <td>[{'y': 71, 'x': 35}, {'y': 95, 'x': 41}]</td>\n",
       "      <td>2499719</td>\n",
       "      <td>Pass</td>\n",
       "      <td>1609</td>\n",
       "      <td>1H</td>\n",
       "      <td>8.143395</td>\n",
       "      <td>82</td>\n",
       "      <td>177959174</td>\n",
       "    </tr>\n",
       "    <tr>\n",
       "      <th>4</th>\n",
       "      <td>8</td>\n",
       "      <td>Simple pass</td>\n",
       "      <td>[{'id': 1801}]</td>\n",
       "      <td>167145</td>\n",
       "      <td>[{'y': 95, 'x': 41}, {'y': 88, 'x': 72}]</td>\n",
       "      <td>2499719</td>\n",
       "      <td>Pass</td>\n",
       "      <td>1609</td>\n",
       "      <td>1H</td>\n",
       "      <td>10.302366</td>\n",
       "      <td>85</td>\n",
       "      <td>177959175</td>\n",
       "    </tr>\n",
       "  </tbody>\n",
       "</table>\n",
       "</div>"
      ],
      "text/plain": [
       "   eventId subEventName            tags  playerId                                 positions  matchId eventName  teamId matchPeriod   eventSec subEventId         id\n",
       "0        8  Simple pass  [{'id': 1801}]     25413  [{'y': 49, 'x': 49}, {'y': 78, 'x': 31}]  2499719      Pass    1609          1H   2.758649         85  177959171\n",
       "1        8    High pass  [{'id': 1801}]    370224  [{'y': 78, 'x': 31}, {'y': 75, 'x': 51}]  2499719      Pass    1609          1H   4.946850         83  177959172\n",
       "2        8    Head pass  [{'id': 1801}]      3319  [{'y': 75, 'x': 51}, {'y': 71, 'x': 35}]  2499719      Pass    1609          1H   6.542188         82  177959173\n",
       "3        8    Head pass  [{'id': 1801}]    120339  [{'y': 71, 'x': 35}, {'y': 95, 'x': 41}]  2499719      Pass    1609          1H   8.143395         82  177959174\n",
       "4        8  Simple pass  [{'id': 1801}]    167145  [{'y': 95, 'x': 41}, {'y': 88, 'x': 72}]  2499719      Pass    1609          1H  10.302366         85  177959175"
      ]
     },
     "execution_count": 6,
     "metadata": {},
     "output_type": "execute_result"
    }
   ],
   "source": [
    "with open('../data/wyscout/events/events_England.json', 'r') as f:\n",
    "    df = pd.json_normalize(json.load(f))\n",
    "    \n",
    "print(df.shape)\n",
    "df.head()"
   ]
  },
  {
   "cell_type": "code",
   "execution_count": 39,
   "id": "3e15d322",
   "metadata": {},
   "outputs": [
    {
     "data": {
      "text/plain": [
       "7"
      ]
     },
     "execution_count": 39,
     "metadata": {},
     "output_type": "execute_result"
    }
   ],
   "source": [
    "min(df.loc[df.eventName == 'Shot', 'positions'].apply(lambda l: l[0]['y']))"
   ]
  },
  {
   "cell_type": "markdown",
   "id": "dfbed7b8",
   "metadata": {},
   "source": [
    "Let's focus only on shots - non headers"
   ]
  },
  {
   "cell_type": "code",
   "execution_count": 113,
   "id": "143b1e5e",
   "metadata": {},
   "outputs": [
    {
     "data": {
      "text/html": [
       "<div>\n",
       "<style scoped>\n",
       "    .dataframe tbody tr th:only-of-type {\n",
       "        vertical-align: middle;\n",
       "    }\n",
       "\n",
       "    .dataframe tbody tr th {\n",
       "        vertical-align: top;\n",
       "    }\n",
       "\n",
       "    .dataframe thead th {\n",
       "        text-align: right;\n",
       "    }\n",
       "</style>\n",
       "<table border=\"1\" class=\"dataframe\">\n",
       "  <thead>\n",
       "    <tr style=\"text-align: right;\">\n",
       "      <th></th>\n",
       "      <th>eventSec</th>\n",
       "      <th>goal</th>\n",
       "      <th>x</th>\n",
       "      <th>y</th>\n",
       "      <th>c</th>\n",
       "      <th>x_m</th>\n",
       "      <th>c_m</th>\n",
       "      <th>distance</th>\n",
       "      <th>angle</th>\n",
       "    </tr>\n",
       "  </thead>\n",
       "  <tbody>\n",
       "    <tr>\n",
       "      <th>0</th>\n",
       "      <td>94.595788</td>\n",
       "      <td>1</td>\n",
       "      <td>12</td>\n",
       "      <td>41</td>\n",
       "      <td>9</td>\n",
       "      <td>12.60</td>\n",
       "      <td>5.85</td>\n",
       "      <td>13.891814</td>\n",
       "      <td>0.474451</td>\n",
       "    </tr>\n",
       "    <tr>\n",
       "      <th>1</th>\n",
       "      <td>179.854785</td>\n",
       "      <td>0</td>\n",
       "      <td>15</td>\n",
       "      <td>52</td>\n",
       "      <td>2</td>\n",
       "      <td>15.75</td>\n",
       "      <td>1.30</td>\n",
       "      <td>15.803560</td>\n",
       "      <td>0.453823</td>\n",
       "    </tr>\n",
       "    <tr>\n",
       "      <th>3</th>\n",
       "      <td>425.824035</td>\n",
       "      <td>0</td>\n",
       "      <td>19</td>\n",
       "      <td>33</td>\n",
       "      <td>17</td>\n",
       "      <td>19.95</td>\n",
       "      <td>11.05</td>\n",
       "      <td>22.805811</td>\n",
       "      <td>0.280597</td>\n",
       "    </tr>\n",
       "    <tr>\n",
       "      <th>4</th>\n",
       "      <td>815.462015</td>\n",
       "      <td>0</td>\n",
       "      <td>25</td>\n",
       "      <td>30</td>\n",
       "      <td>20</td>\n",
       "      <td>26.25</td>\n",
       "      <td>13.00</td>\n",
       "      <td>29.292704</td>\n",
       "      <td>0.223680</td>\n",
       "    </tr>\n",
       "    <tr>\n",
       "      <th>5</th>\n",
       "      <td>1286.061650</td>\n",
       "      <td>0</td>\n",
       "      <td>10</td>\n",
       "      <td>39</td>\n",
       "      <td>11</td>\n",
       "      <td>10.50</td>\n",
       "      <td>7.15</td>\n",
       "      <td>12.703248</td>\n",
       "      <td>0.479051</td>\n",
       "    </tr>\n",
       "  </tbody>\n",
       "</table>\n",
       "</div>"
      ],
      "text/plain": [
       "      eventSec  goal   x   y   c    x_m    c_m   distance     angle\n",
       "0    94.595788     1  12  41   9  12.60   5.85  13.891814  0.474451\n",
       "1   179.854785     0  15  52   2  15.75   1.30  15.803560  0.453823\n",
       "3   425.824035     0  19  33  17  19.95  11.05  22.805811  0.280597\n",
       "4   815.462015     0  25  30  20  26.25  13.00  29.292704  0.223680\n",
       "5  1286.061650     0  10  39  11  10.50   7.15  12.703248  0.479051"
      ]
     },
     "execution_count": 113,
     "metadata": {},
     "output_type": "execute_result"
    }
   ],
   "source": [
    "shots = df.loc[(df['subEventName']=='Shot')].reset_index(drop=True)\n",
    "\n",
    "# Retrieve headers and goals\n",
    "shots['header'] = 0\n",
    "shots['goal'] = 0\n",
    "for i, row in shots.iterrows():\n",
    "    for tag in row['tags']:\n",
    "        if tag['id'] == 403:\n",
    "            shots.loc[i, 'header'] = 1\n",
    "        if tag['id'] == 101:\n",
    "            shots.loc[i, 'goal'] = 1\n",
    "            \n",
    "shots = shots.loc[shots['header'] == 0]\n",
    "\n",
    "# Calculate position and angle\n",
    "# X - Distance to goal - Subtract 100 because x=100 is goal line\n",
    "shots['x'] = 100 - shots['positions'].apply(lambda l: l[0]['x'])\n",
    "\n",
    "# Center y (as c)\n",
    "shots['y'] = shots['positions'].apply(lambda l: l[0]['y'])\n",
    "shots['c'] = np.abs(shots['y'] - 50)\n",
    "\n",
    "# Switch to meters\n",
    "shots['x_m'] = shots['x'] * 105 / 100\n",
    "shots['c_m'] = shots['c'] * 65 / 100\n",
    "\n",
    "# Distance to center of goal\n",
    "shots['distance'] = np.sqrt(shots['x_m'] ** 2 + shots['c_m'] ** 2)\n",
    "\n",
    "# Angle - trigonometry!!!\n",
    "shots['angle'] = np.arctan(7.32 * shots['x_m'] /\n",
    "                           (shots['x_m'] ** 2 + shots['c_m'] ** 2 - (7.32/2)**2))\n",
    "shots.loc[shots['angle'] < 0, 'angle'] += np.pi\n",
    "\n",
    "# Keep only important features\n",
    "shots = shots[['eventSec', 'goal', 'x', 'y', 'c', 'x_m', 'c_m', 'distance', 'angle']]\n",
    "shots.head()"
   ]
  },
  {
   "cell_type": "markdown",
   "id": "3bcc079f",
   "metadata": {},
   "source": [
    "### Shots and goals"
   ]
  },
  {
   "cell_type": "code",
   "execution_count": 157,
   "id": "8779f94a",
   "metadata": {},
   "outputs": [
    {
     "data": {
      "image/png": "[encoded data removed]",
      "text/plain": [
       "<Figure size 864x432 with 1 Axes>"
      ]
     },
     "metadata": {},
     "output_type": "display_data"
    }
   ],
   "source": [
    "pitch = Pitch(figsize=(12, 6), orientation='vertical', view='half', pitch_color='green',\n",
    "              pitch_type='wyscout')\n",
    "pitch.draw()\n",
    "\n",
    "plt.hist2d(shots['y'], 100 - shots['x'], range=[[0, 100], [50, 100]], bins=30,\n",
    "           alpha=0.5, cmap=cm.Reds)\n",
    "plt.title('Shots frequency', color='white')\n",
    "\n",
    "plt.show()"
   ]
  },
  {
   "cell_type": "code",
   "execution_count": 158,
   "id": "f451e906",
   "metadata": {},
   "outputs": [
    {
     "data": {
      "image/png": "[encoded data removed]",
      "text/plain": [
       "<Figure size 864x432 with 1 Axes>"
      ]
     },
     "metadata": {},
     "output_type": "display_data"
    }
   ],
   "source": [
    "pitch = Pitch(figsize=(12, 6), orientation='vertical', view='half', pitch_color='green',\n",
    "              pitch_type='wyscout')\n",
    "pitch.draw()\n",
    "\n",
    "plt.hist2d(shots.loc[shots['goal'] == 1, 'y'], 100 - shots.loc[shots['goal'] == 1, 'x'],\n",
    "           range=[[0, 100], [50, 100]], bins=30,\n",
    "           alpha=0.5, cmap=cm.Reds)\n",
    "plt.title('Goals frequency', color='white')\n",
    "\n",
    "plt.show()"
   ]
  },
  {
   "cell_type": "markdown",
   "id": "c48faf83",
   "metadata": {},
   "source": [
    "How much angle and distance influence on the probability of scoring?"
   ]
  },
  {
   "cell_type": "code",
   "execution_count": 194,
   "id": "17aa2014",
   "metadata": {},
   "outputs": [
    {
     "data": {
      "image/png": "[encoded data removed]",
      "text/plain": [
       "<Figure size 1008x432 with 2 Axes>"
      ]
     },
     "metadata": {
      "needs_background": "light"
     },
     "output_type": "display_data"
    }
   ],
   "source": [
    "tmp = shots[['angle', 'goal', 'distance']]\n",
    "tmp['angle_bin'] = pd.cut(shots['angle'], bins=20)\n",
    "tmp['distance_bin'] = pd.cut(shots['distance'], bins=20)\n",
    "\n",
    "fig, ax = plt.subplots(1, 2, figsize=(14, 6))\n",
    "tmp.groupby('angle_bin').agg({'goal': 'mean'}).plot.bar(ax=ax[0])\n",
    "ax[0].set_title('Angle vs Goals')\n",
    "\n",
    "tmp.groupby('distance_bin').agg({'goal': 'mean'}).plot.bar(ax=ax[1])\n",
    "ax[0].set_title('Distance vs Goals')\n",
    "\n",
    "plt.show()"
   ]
  },
  {
   "cell_type": "markdown",
   "id": "d134ab5a",
   "metadata": {},
   "source": [
    "## Actual model"
   ]
  },
  {
   "cell_type": "code",
   "execution_count": 195,
   "id": "4b9e3af5",
   "metadata": {},
   "outputs": [],
   "source": [
    "import statsmodels.api as sm\n",
    "import statsmodels.formula.api as smf"
   ]
  },
  {
   "cell_type": "code",
   "execution_count": 198,
   "id": "7d172904",
   "metadata": {},
   "outputs": [
    {
     "name": "stderr",
     "output_type": "stream",
     "text": [
      "<ipython-input-198-821f173b0ec8>:3: RuntimeWarning: invalid value encountered in true_divide\n",
      "  prob_goal=np.divide(goalcount_dist[0],shotcount_dist[0])\n"
     ]
    }
   ],
   "source": [
    "# Create bins for angle and probabilities\n",
    "shotcount_dist=np.histogram(shots['angle']*180/np.pi,bins=40,range=[0, 150])\n",
    "goalcount_dist=np.histogram(shots.loc[shots['goal'] == 1, 'angle']*180/np.pi,bins=40,range=[0, 150])\n",
    "prob_goal=np.divide(goalcount_dist[0],shotcount_dist[0])\n",
    "angle=shotcount_dist[1]\n",
    "midangle= (angle[:-1] + angle[1:])/2"
   ]
  },
  {
   "cell_type": "code",
   "execution_count": 212,
   "id": "200f3616",
   "metadata": {},
   "outputs": [
    {
     "name": "stderr",
     "output_type": "stream",
     "text": [
      "<ipython-input-212-3791024c60c5>:3: RuntimeWarning: invalid value encountered in true_divide\n",
      "  prob_goal=np.divide(goalcount_dist[0],shotcount_dist[0])\n"
     ]
    }
   ],
   "source": [
    "shotcount_dist=np.histogram(shots['distance'],bins=40,range=[0, 70])\n",
    "goalcount_dist=np.histogram(shots.loc[shots['goal'] == 1, 'distance'],bins=40,range=[0, 70])\n",
    "prob_goal=np.divide(goalcount_dist[0],shotcount_dist[0])\n",
    "distance=shotcount_dist[1]\n",
    "middistance= (distance[:-1] + distance[1:])/2"
   ]
  },
  {
   "cell_type": "markdown",
   "id": "3f38a031",
   "metadata": {},
   "source": [
    "At first, let's look only at Goal vs Angle"
   ]
  },
  {
   "cell_type": "code",
   "execution_count": 213,
   "id": "bec9bd19",
   "metadata": {},
   "outputs": [
    {
     "name": "stdout",
     "output_type": "stream",
     "text": [
      "                 Generalized Linear Model Regression Results                  \n",
      "==============================================================================\n",
      "Dep. Variable:                   goal   No. Observations:                 7134\n",
      "Model:                            GLM   Df Residuals:                     7132\n",
      "Model Family:                Binomial   Df Model:                            1\n",
      "Link Function:                  logit   Scale:                          1.0000\n",
      "Method:                          IRLS   Log-Likelihood:                -2056.3\n",
      "Date:                Sun, 11 Apr 2021   Deviance:                       4112.7\n",
      "Time:                        11:45:05   Pearson chi2:                 6.70e+03\n",
      "No. Iterations:                     6                                         \n",
      "Covariance Type:            nonrobust                                         \n",
      "==============================================================================\n",
      "                 coef    std err          z      P>|z|      [0.025      0.975]\n",
      "------------------------------------------------------------------------------\n",
      "Intercept     -3.7097      0.085    -43.542      0.000      -3.877      -3.543\n",
      "angle          3.4553      0.153     22.548      0.000       3.155       3.756\n",
      "==============================================================================\n"
     ]
    },
    {
     "name": "stderr",
     "output_type": "stream",
     "text": [
      "<ipython-input-213-182cf0c76591>:10: MatplotlibDeprecationWarning: Case-insensitive properties were deprecated in 3.3 and support will be removed two minor releases later\n",
      "  ax.plot(midangle, prob_goal, linestyle='none', marker= '.', markerSize= 12, color='black')\n"
     ]
    },
    {
     "data": {
      "image/png": "[encoded data removed]",
      "text/plain": [
       "<Figure size 432x288 with 1 Axes>"
      ]
     },
     "metadata": {
      "needs_background": "light"
     },
     "output_type": "display_data"
    }
   ],
   "source": [
    "test_model = smf.glm(formula=\"goal ~ angle\" , data=shots, \n",
    "                     family=sm.families.Binomial()).fit()\n",
    "print(test_model.summary())  \n",
    "\n",
    "b=test_model.params\n",
    "\n",
    "\n",
    "xGprob=1/(1+np.exp(-(b[0]+b[1]*midangle*np.pi/180))) \n",
    "fig,ax=plt.subplots(num=1)\n",
    "ax.plot(midangle, prob_goal, linestyle='none', marker= '.', markerSize= 12, color='black')\n",
    "ax.plot(midangle, xGprob, linestyle='solid', color='black')\n",
    "ax.set_ylabel('Probability chance scored')\n",
    "ax.set_xlabel(\"Shot angle (degrees)\")\n",
    "ax.spines['top'].set_visible(False)\n",
    "ax.spines['right'].set_visible(False)\n",
    "plt.show()"
   ]
  },
  {
   "cell_type": "markdown",
   "id": "e174acc1",
   "metadata": {},
   "source": [
    "Then only Distance VS Goal"
   ]
  },
  {
   "cell_type": "code",
   "execution_count": 215,
   "id": "41c30e24",
   "metadata": {},
   "outputs": [
    {
     "name": "stdout",
     "output_type": "stream",
     "text": [
      "                 Generalized Linear Model Regression Results                  \n",
      "==============================================================================\n",
      "Dep. Variable:                   goal   No. Observations:                 7134\n",
      "Model:                            GLM   Df Residuals:                     7132\n",
      "Model Family:                Binomial   Df Model:                            1\n",
      "Link Function:                  logit   Scale:                          1.0000\n",
      "Method:                          IRLS   Log-Likelihood:                -2010.7\n",
      "Date:                Sun, 11 Apr 2021   Deviance:                       4021.3\n",
      "Time:                        11:45:50   Pearson chi2:                 1.90e+04\n",
      "No. Iterations:                     6                                         \n",
      "Covariance Type:            nonrobust                                         \n",
      "==============================================================================\n",
      "                 coef    std err          z      P>|z|      [0.025      0.975]\n",
      "------------------------------------------------------------------------------\n",
      "Intercept      0.5282      0.107      4.914      0.000       0.318       0.739\n",
      "distance      -0.1654      0.007    -22.908      0.000      -0.180      -0.151\n",
      "==============================================================================\n"
     ]
    },
    {
     "name": "stderr",
     "output_type": "stream",
     "text": [
      "<ipython-input-215-e0455af7b718>:10: MatplotlibDeprecationWarning: Case-insensitive properties were deprecated in 3.3 and support will be removed two minor releases later\n",
      "  ax.plot(middistance, prob_goal, linestyle='none', marker= '.', markerSize= 12, color='black')\n"
     ]
    },
    {
     "data": {
      "image/png": "[encoded data removed]",
      "text/plain": [
       "<Figure size 432x288 with 1 Axes>"
      ]
     },
     "metadata": {
      "needs_background": "light"
     },
     "output_type": "display_data"
    }
   ],
   "source": [
    "test_model = smf.glm(formula=\"goal ~ distance\" , data=shots, \n",
    "                     family=sm.families.Binomial()).fit()\n",
    "print(test_model.summary())  \n",
    "\n",
    "b=test_model.params\n",
    "\n",
    "\n",
    "xGprob=1/(1+np.exp(-(b[0]+b[1]*middistance))) \n",
    "fig,ax=plt.subplots(num=1)\n",
    "ax.plot(middistance, prob_goal, linestyle='none', marker= '.', markerSize= 12, color='black')\n",
    "ax.plot(middistance, xGprob, linestyle='solid', color='black')\n",
    "ax.set_ylabel('Probability chance scored')\n",
    "ax.set_xlabel(\"Shot distance\")\n",
    "ax.spines['top'].set_visible(False)\n",
    "ax.spines['right'].set_visible(False)\n",
    "plt.show()"
   ]
  },
  {
   "cell_type": "markdown",
   "id": "908037f5",
   "metadata": {},
   "source": [
    "Finally, we use both features"
   ]
  },
  {
   "cell_type": "code",
   "execution_count": 220,
   "id": "a7e1d452",
   "metadata": {},
   "outputs": [
    {
     "name": "stdout",
     "output_type": "stream",
     "text": [
      "                 Generalized Linear Model Regression Results                  \n",
      "==============================================================================\n",
      "Dep. Variable:                   goal   No. Observations:                 7134\n",
      "Model:                            GLM   Df Residuals:                     7131\n",
      "Model Family:                Binomial   Df Model:                            2\n",
      "Link Function:                  logit   Scale:                          1.0000\n",
      "Method:                          IRLS   Log-Likelihood:                -1990.9\n",
      "Date:                Sun, 11 Apr 2021   Deviance:                       3981.8\n",
      "Time:                        11:51:05   Pearson chi2:                 9.02e+03\n",
      "No. Iterations:                     7                                         \n",
      "Covariance Type:            nonrobust                                         \n",
      "==============================================================================\n",
      "                 coef    std err          z      P>|z|      [0.025      0.975]\n",
      "------------------------------------------------------------------------------\n",
      "Intercept     -0.8909      0.252     -3.532      0.000      -1.385      -0.396\n",
      "distance      -0.1137      0.011    -10.793      0.000      -0.134      -0.093\n",
      "angle          1.3139      0.218      6.031      0.000       0.887       1.741\n",
      "==============================================================================\n"
     ]
    },
    {
     "data": {
      "image/png": "[encoded data removed]",
      "text/plain": [
       "<Figure size 864x432 with 1 Axes>"
      ]
     },
     "metadata": {},
     "output_type": "display_data"
    }
   ],
   "source": [
    "test_model = smf.glm(formula=\"goal ~ distance + angle\" , data=shots, \n",
    "                     family=sm.families.Binomial()).fit()\n",
    "print(test_model.summary())  \n",
    "\n",
    "b=test_model.params\n",
    "shots['xg_dist_angle'] = 1 / (1 + np.exp(-(b[0] + b[1] * shots['distance']\n",
    "                                           + b[2] * shots['angle'])))\n",
    "\n",
    "pitch = Pitch(figsize=(12, 6), orientation='vertical', view='half', pitch_color='green',\n",
    "              pitch_type='wyscout')\n",
    "pitch.draw()\n",
    "\n",
    "plt.hist2d(shots['y'], 100 - shots['x'], weights=shots['xg_dist_angle'],\n",
    "           range=[[0, 100], [50, 100]], bins=30,\n",
    "           alpha=0.5, cmap=cm.Reds)\n",
    "plt.title('XG on distance and angle', color='white')\n",
    "\n",
    "plt.show()"
   ]
  },
  {
   "cell_type": "markdown",
   "id": "cb753240",
   "metadata": {},
   "source": [
    "And all available features"
   ]
  },
  {
   "cell_type": "code",
   "execution_count": 222,
   "id": "b20bc011",
   "metadata": {},
   "outputs": [
    {
     "name": "stdout",
     "output_type": "stream",
     "text": [
      "                 Generalized Linear Model Regression Results                  \n",
      "==============================================================================\n",
      "Dep. Variable:                   goal   No. Observations:                 7134\n",
      "Model:                            GLM   Df Residuals:                     7129\n",
      "Model Family:                Binomial   Df Model:                            4\n",
      "Link Function:                  logit   Scale:                          1.0000\n",
      "Method:                          IRLS   Log-Likelihood:                -1988.0\n",
      "Date:                Sun, 11 Apr 2021   Deviance:                       3976.0\n",
      "Time:                        11:52:33   Pearson chi2:                 9.33e+03\n",
      "No. Iterations:                     7                                         \n",
      "Covariance Type:            nonrobust                                         \n",
      "==============================================================================\n",
      "                 coef    std err          z      P>|z|      [0.025      0.975]\n",
      "------------------------------------------------------------------------------\n",
      "Intercept     -0.5114      0.305     -1.676      0.094      -1.109       0.087\n",
      "distance      -0.1372      0.059     -2.325      0.020      -0.253      -0.022\n",
      "angle          1.0174      0.253      4.018      0.000       0.521       1.514\n",
      "x_m            0.0193      0.051      0.379      0.704      -0.080       0.119\n",
      "c_m           -0.0200      0.028     -0.709      0.479      -0.075       0.035\n",
      "==============================================================================\n"
     ]
    },
    {
     "data": {
      "image/png": "[encoded data removed]",
      "text/plain": [
       "<Figure size 864x432 with 1 Axes>"
      ]
     },
     "metadata": {},
     "output_type": "display_data"
    }
   ],
   "source": [
    "test_model = smf.glm(formula=\"goal ~ distance + angle + x_m + c_m\" , data=shots, \n",
    "                     family=sm.families.Binomial()).fit()\n",
    "print(test_model.summary())  \n",
    "\n",
    "b=test_model.params\n",
    "shots['xg_all'] = 1 / (1 + np.exp(-(b[0] + b[1] * shots['distance']\n",
    "                                           + b[2] * shots['angle']\n",
    "                                           + b[3] * shots['x_m']\n",
    "                                           + b[4] * shots['c_m']\n",
    "                                   )\n",
    "                                 )\n",
    "                      )\n",
    "\n",
    "pitch = Pitch(figsize=(12, 6), orientation='vertical', view='half', pitch_color='green',\n",
    "              pitch_type='wyscout')\n",
    "pitch.draw()\n",
    "\n",
    "plt.hist2d(shots['y'], 100 - shots['x'], weights=shots['xg_dist_angle'],\n",
    "           range=[[0, 100], [50, 100]], bins=30,\n",
    "           alpha=0.5, cmap=cm.Reds)\n",
    "plt.title('XG on distance and angle', color='white')\n",
    "\n",
    "plt.show()"
   ]
  },
  {
   "cell_type": "code",
   "execution_count": null,
   "id": "42d1c13f",
   "metadata": {},
   "outputs": [],
   "source": []
  }
 ],
 "metadata": {
  "kernelspec": {
   "display_name": "Python [conda env:football]",
   "language": "python",
   "name": "conda-env-football-py"
  },
  "language_info": {
   "codemirror_mode": {
    "name": "ipython",
    "version": 3
   },
   "file_extension": ".py",
   "mimetype": "text/x-python",
   "name": "python",
   "nbconvert_exporter": "python",
   "pygments_lexer": "ipython3",
   "version": "3.8.6"
  }
 },
 "nbformat": 4,
 "nbformat_minor": 5
}
