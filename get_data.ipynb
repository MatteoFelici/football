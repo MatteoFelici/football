{
 "cells": [
  {
   "cell_type": "code",
   "execution_count": 10,
   "metadata": {},
   "outputs": [],
   "source": [
    "from pprint import pprint\n",
    "import sys\n",
    "sys.path.append('./src')\n",
    "\n",
    "from get_data import get_leagues, get_fixtures"
   ]
  },
  {
   "cell_type": "markdown",
   "metadata": {},
   "source": [
    "## Leagues data"
   ]
  },
  {
   "cell_type": "code",
   "execution_count": 4,
   "metadata": {},
   "outputs": [
    {
     "name": "stdout",
     "output_type": "stream",
     "text": [
      "{'country': 'Russia',\n",
      " 'country_code': 'RU',\n",
      " 'coverage': {'fixtures': {'events': True,\n",
      "                           'lineups': True,\n",
      "                           'players_statistics': True,\n",
      "                           'statistics': True},\n",
      "              'odds': False,\n",
      "              'players': True,\n",
      "              'predictions': True,\n",
      "              'standings': True,\n",
      "              'topScorers': True},\n",
      " 'flag': 'https://media.api-sports.io/flags/ru.svg',\n",
      " 'is_current': 0,\n",
      " 'league_id': 133,\n",
      " 'logo': 'https://media.api-sports.io/football/leagues/235.png',\n",
      " 'name': 'Premier League',\n",
      " 'season': 2016,\n",
      " 'season_end': '2017-05-21',\n",
      " 'season_start': '2016-07-30',\n",
      " 'standings': 1,\n",
      " 'type': 'League'}\n"
     ]
    }
   ],
   "source": [
    "leagues = get_leagues()\n",
    "pprint(leagues['leagues'][71])"
   ]
  },
  {
   "cell_type": "markdown",
   "metadata": {},
   "source": [
    "## Fixtures\n",
    "We import all fixtures from given leagues. I'm interested only in a subset of nations / competitions, and I want only the leagues with *player statistics* level of detail."
   ]
  },
  {
   "cell_type": "code",
   "execution_count": 11,
   "metadata": {},
   "outputs": [],
   "source": [
    "from params import COUNTRIES\n",
    "\n",
    "for league in leagues['leagues']:\n",
    "    if (league['coverage']['fixtures']['players_statistics'] and\n",
    "    # Take leagues only from COUNTRIES or European leagues\n",
    "        (league['country_code'] in COUNTRIES or league['name'] in ('UEFA Champions League', 'UEFA Europa League'))):\n",
    "            fixtures = get_fixtures(league['league_id'])"
   ]
  },
  {
   "cell_type": "code",
   "execution_count": null,
   "metadata": {},
   "outputs": [],
   "source": []
  }
 ],
 "metadata": {
  "kernelspec": {
   "display_name": "Python [conda env:football]",
   "language": "python",
   "name": "conda-env-football-py"
  },
  "language_info": {
   "codemirror_mode": {
    "name": "ipython",
    "version": 3
   },
   "file_extension": ".py",
   "mimetype": "text/x-python",
   "name": "python",
   "nbconvert_exporter": "python",
   "pygments_lexer": "ipython3",
   "version": "3.8.6"
  }
 },
 "nbformat": 4,
 "nbformat_minor": 4
}
